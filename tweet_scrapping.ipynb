{
  "nbformat": 4,
  "nbformat_minor": 0,
  "metadata": {
    "colab": {
      "name": "tweet_scrapping.ipynb",
      "provenance": [],
      "include_colab_link": true
    },
    "kernelspec": {
      "name": "python3",
      "display_name": "Python 3"
    },
    "language_info": {
      "name": "python"
    }
  },
  "cells": [
    {
      "cell_type": "markdown",
      "metadata": {
        "id": "view-in-github",
        "colab_type": "text"
      },
      "source": [
        "<a href=\"https://colab.research.google.com/github/bonafepedro/twitter_scrapping/blob/master/tweet_scrapping.ipynb\" target=\"_parent\"><img src=\"https://colab.research.google.com/assets/colab-badge.svg\" alt=\"Open In Colab\"/></a>"
      ]
    },
    {
      "cell_type": "markdown",
      "metadata": {
        "id": "Owy2QVStr1Dt"
      },
      "source": [
        "# **Extracción de Tweets sin usar la API de twitter con python**"
      ]
    },
    {
      "cell_type": "code",
      "metadata": {
        "colab": {
          "base_uri": "https://localhost:8080/"
        },
        "id": "n1i0_Q_5oU2Q",
        "outputId": "c4bf81ed-0a6a-412a-9080-435a6a3ba430"
      },
      "source": [
        "# Montamos el colab al drive donde guardaremos los archivos\n",
        "from google.colab import drive\n",
        "drive.mount('/content/drive')\n"
      ],
      "execution_count": null,
      "outputs": [
        {
          "output_type": "stream",
          "name": "stdout",
          "text": [
            "Drive already mounted at /content/drive; to attempt to forcibly remount, call drive.mount(\"/content/drive\", force_remount=True).\n"
          ]
        }
      ]
    },
    {
      "cell_type": "markdown",
      "metadata": {
        "id": "c6USwvyWsFES"
      },
      "source": [
        "La librería a instalar se llama snscrape y es muy util y sencilla. \n",
        "\n",
        "Dejo también los link del video tutorial y el notebook original. \n",
        "\n",
        "▶ Video: \n",
        "https://www.youtube.com/watch?v=jOqLX_az_Tg&t=81s \n",
        "\n",
        "👉 Notebook: https://github.com/bhattbhavesh91/twitter-scrapper-snscrape/blob/main/scrapper-notebook.ipynb"
      ]
    },
    {
      "cell_type": "code",
      "metadata": {
        "id": "8Xui0Ggoootu"
      },
      "source": [
        "!pip install -q snscrape==0.3.4"
      ],
      "execution_count": null,
      "outputs": []
    },
    {
      "cell_type": "markdown",
      "metadata": {
        "id": "U8kUNqZCtneP"
      },
      "source": [
        "importamos os para guardar los archivos en el local, pandas para poder hacer algun procesamiento con el csv extraído y datetime para trabajar con fechas y horas"
      ]
    },
    {
      "cell_type": "code",
      "metadata": {
        "id": "vgeWeLF6opSa"
      },
      "source": [
        "import os\n",
        "import pandas as pd\n",
        "from datetime import date"
      ],
      "execution_count": null,
      "outputs": []
    },
    {
      "cell_type": "code",
      "metadata": {
        "id": "NrolshOypMGc"
      },
      "source": [
        "today = date.today()\n",
        "end_date = today\n"
      ],
      "execution_count": null,
      "outputs": []
    },
    {
      "cell_type": "markdown",
      "metadata": {
        "id": "8LggZ9vYt3JV"
      },
      "source": [
        "# Parámetros de la librería\n",
        "\n",
        "Estos son los parámetros básicos que es el término de búsqueda y la fecha desde la cual queremos obtener tweets, en este caso por ej. es 12 de diciembre de 2019 fecha del cambio de gestión pero podría ser cualquier otro. "
      ]
    },
    {
      "cell_type": "code",
      "metadata": {
        "id": "GkFT0nY5otxQ"
      },
      "source": [
        "search_term = 'Municipalidad de Córdoba'\n",
        "from_date = '2019-12-12'"
      ],
      "execution_count": null,
      "outputs": []
    },
    {
      "cell_type": "markdown",
      "metadata": {
        "id": "RMecMdu4o2E1"
      },
      "source": [
        "# Número de tweets"
      ]
    },
    {
      "cell_type": "markdown",
      "metadata": {
        "id": "c2O7Y-R6uUq-"
      },
      "source": [
        "La función para extraer el número de tweets es sencilla incorpora los parámetros definidos anteriormente y guarda los links de los tweets en un txt."
      ]
    },
    {
      "cell_type": "code",
      "metadata": {
        "colab": {
          "base_uri": "https://localhost:8080/"
        },
        "id": "CywZKGQsox77",
        "outputId": "3a378fff-06dd-4f54-d920-303c5e357856"
      },
      "source": [
        "os.system(f\"snscrape --since {from_date} twitter-search '{search_term} until:{end_date}' > result-tweets.txt\")\n",
        "if os.stat(\"result-tweets.txt\").st_size == 0:\n",
        "  counter = 0\n",
        "else:\n",
        "  df = pd.read_csv('result-tweets.txt', names=['link'])\n",
        "  counter = df.size\n",
        "\n",
        "print('Number Of Tweets : '+ str(counter))"
      ],
      "execution_count": null,
      "outputs": [
        {
          "output_type": "stream",
          "name": "stdout",
          "text": [
            "Number Of Tweets : 11737\n"
          ]
        }
      ]
    },
    {
      "cell_type": "markdown",
      "metadata": {
        "id": "5ijpambno6ml"
      },
      "source": [
        ""
      ]
    },
    {
      "cell_type": "markdown",
      "metadata": {
        "id": "bsMrMR8AqftE"
      },
      "source": [
        "# Extracción de Tweeets Exactos"
      ]
    },
    {
      "cell_type": "markdown",
      "metadata": {
        "id": "ek9gadJwu_ne"
      },
      "source": [
        "También puedo pasarle un parámetro de contenido en este caso le pasé \"Municipalidad de Córdoba\" para que me extraiga tweets donde aparezca dicho parámetro. Hay que ver si puede configurarse para que el matcheo no sea exacto o si se pueden pasar más de un parámetro no he probado. En este caso es necesario definir un máximo de resultados. Los tweets también se guardan en un txt, calculo que pueden guardarse en un csv también sin ningun problema. "
      ]
    },
    {
      "cell_type": "code",
      "metadata": {
        "id": "Ka_-QA71qe8Z"
      },
      "source": [
        "max_results = 100"
      ],
      "execution_count": null,
      "outputs": []
    },
    {
      "cell_type": "code",
      "metadata": {
        "colab": {
          "base_uri": "https://localhost:8080/"
        },
        "id": "bb3wgsACqtFb",
        "outputId": "fd07d5c7-9176-4598-eb50-b3fe78a92bbf"
      },
      "source": [
        "extracted_tweets = \"snscrape --format '{content!r}'\"+ f\" --max-results {max_results} --since {from_date} twitter-search '{search_term} until:{end_date}' > extracted-tweets.txt\"\n",
        "os.system(extracted_tweets)\n",
        "if os.stat(\"extracted-tweets.txt\").st_size == 0:\n",
        "  print('No Tweets found')\n",
        "else:\n",
        "  df = pd.read_csv('extracted-tweets.txt', names=['content'])\n",
        "  for row in df['content'].iteritems():\n",
        "    print(row)"
      ],
      "execution_count": null,
      "outputs": [
        {
          "output_type": "stream",
          "name": "stdout",
          "text": [
            "((\"'@rinconet @gabiestevezok @carolina_rusca @PeronchoStandUp ¿Diálogo y consenso? Nooo\", ' en Córdoba no hace falta diálogo sólo habla el cordobesismo... no hay nada para consensuar'), \" no hay división de poderes ni en la provincia ni en la municipalidad. Ya decidieron no controlar los precios para defender a los cordobeses. Traiga Fernet.'\")\n",
            "((\"'Uber en Córdoba: para calmar la situación\", \" la Municipalidad sorteará 2.000 chapas de taxi | Vía Córdoba https://t.co/p4vxVsLciL https://t.co/RiEaJrHUvJ'\"), nan)\n",
            "((\"'🐈🐕 Con la incorporación de un nuevo Centro de Control de Reproducción y Tenencia Responsable\", \" la Municipalidad de Córdoba amplia su capacidad para brindar castraciones gratuitas de mascotas. \\\\n#Mascotas #Castraciones  \\\\n https://t.co/mHNT2t0JyU https://t.co/0E06YSK1lJ'\"), nan)\n",
            "((\"'Por el reclamo de los conductores contra Uber\", \" la Municipalidad de Córdoba analiza sortear 2.500 chapas de taxi &gt;&gt; https://t.co/4R0PSlWdMl https://t.co/2G9x4IC6Yf'\"), nan)\n",
            "((\"'#Ahora en #Resumen Córdoba conversamos con el Lic. @Agulunas\", 'Investigador CONICET'), \" miembro del Foro Ambiental Córdoba. La justicia falló contra la municipalidad y la provincia por la contaminación de Bajo Grande. https://t.co/YYWeCw3J6E'\")\n",
            "((\"'El mismo cuenta con dos electro bisturí y una lámpara quirúrgica.\\\\nEsto fue posible gracias a la adhesión de la reducción voluntaria del 30% de ingresos\", \" decretado por el Intendente @MartinLlaryora para enfrentar la crisis económica y sanitaria originada por la pandemia. https://t.co/1st6EJP04J'\"), nan)\n",
            "((\"'En el día de hoy el Presidente @pventuruzzi y los Vocales por la Mayoría @mi_aparicio10 @GustavoXV y Minoría\", \" Fernanda Leiva y Juan Testa hicieron efectiva la entrega de equipamiento médico al Hospital de Urgencias @saludmunicba @arialeksandroff https://t.co/lBsMpmSghj'\"), nan)\n",
            "((\"'#RESPIRACÓRDOBA🌱\\\\n\\\\n🙋\\\\u200d♂️@rodriceballos te cuenta cuál es el objetivo de este proyecto de cooperación internacional impulsado por la @MuniCba🏙️\\\\n\\\\n#CórdobadePie #RRII #Córdoba #VuelveaRespirar #UniónEuropea  #CórdobaCapital\\\\n@MartinLlaryora @Ale_Torres60 @UEenARG https://t.co/oFWHUhtKkn'\", nan), nan)\n",
            "((\"'👷 Mantenimiento y mejoras miércoles 03/11 👷\\\\n(Huerta Grande)\\\\nDe 05:00 a 05:15  y de 09:05 a 09:15 hs Sector: Barrios la Quebrada y La Berna. Municipalidad Huerta Grande.'\", nan), nan)\n",
            "((\"'➡️Continuando con los anuncios de recambio de viejas luminarias por luces de tecnología #LED\", ' el intendente @MartinLlaryora se encuentra en barrio Suárez donde se renovarán 180 luminarias. De este modo'), \" estamos solucionando históricos reclamos de los vecinos y vecinas del barrio. https://t.co/QdS8lFVJz0'\")\n",
            "((\"'Firmamos un convenio con la municipalidad de #Despeñaderos\", ' departamento #SantaMaría'), ' para pavimentar el ingreso a la ciudad')\n",
            "((\"'💡🔆 En el marco del plan de instalación de 20.000 luces LED en #CórdobaCapital\", ' el secretario de @CPCMuniCba'), ' @JDViola  se encuentra en 📍barrio Bella Vista Oeste')\n",
            "((\"'👴 Volvieron a abrir los comedores de 13 Centros de Día\\\\n\\\\n🤲 Lo anunció la Municipalidad de Córdoba. Son unos 700 ancianos de la ciudad que se reencontrarán por primera vez desde que empezó la pandemia.\\\\n\\\\nhttps://t.co/zN9IpnPkmK https://t.co/VG0ONKRL49'\", nan), nan)\n",
            "((\"'✨EL CPC RUTA 20 TOTALMENTE RENOVADO \\\\n\\\\n👷 Finalizamos múltiples trabajos de refacción que incluyeron la reparación del techo\", ' goteras'), ' desagües y filtraciones de agua del edificio ☔️.\\\\n\\\\n👐 Mejorando y acompañando a los #CPC')\n",
            "((\"'Con un nuevo Centro de Control de Reproducción y Tenencia Responsable\", \" la Municipalidad cuadriplica las #castraciones gratuitas de #mascotas \\\\n\\\\n👉Está ubicado en barrio La France y recorren los CPC y las 50 veterinarias adheridas al plan del Municipio.\\\\n\\\\nhttps://t.co/O3twrhPdK8 https://t.co/XAgaBinp2O'\"), nan)\n",
            "((\"'#CordobaAhora\\\\nHubo principio de acuerdo entre la Municipalidad y taxistas y mañana no habrá paro\\\\nSe decidió levantar la medida de fuerza prevista para este miércoles.\\\\n#taxistas #Cordoba @MuniCba \\\\nhttps://t.co/Fe3pcX5J5D'\", nan), nan)\n",
            "((\"'CÓRDOBA | La Municipalidad anunció cambios en el funcionamiento de los Centros de Testeos. Ahora se atenderá en el SUM del Centro Vecinal de barrio Parque y en el predio de la Sociedad Rural.  https://t.co/ILHqUFqZ7h'\", nan), nan)\n",
            "((\"'⚠️ Fuimos alertados de un riesgo por roturas en una boca de tormenta en la esquina de Rivadavia y 25 de Mayo\", \" en pleno centro de #CórdobaCapital.\\\\n👷 Inmediatamente personal de @DC_municba realizó las reparaciones necesarias para la seguridad de los peatones. \\\\n#EstamosCercaTuyo https://t.co/e5UFYFoJsG'\"), nan)\n",
            "((\"'Ciudad de #Córdoba\\\\nLa Municipalidad sorteará 2 mil nuevas chapas de taxi https://t.co/c4tZrYSThu https://t.co/QtmAYrAFXd'\", nan), nan)\n",
            "((\"'CÓRDOBA | La Municipalidad de Río Tercero anunció este martes que el tapabocas dejará de ser obligatorio para circular en espacios abiertos. En espacio cerrados\", \" la obligación persiste.  https://t.co/KFUcfmZUZy'\"), nan)\n",
            "((\"'La Justicia hace responsables a la Municipalidad de Córdoba y la Provincia por los desbordes cloacales al río | Vía Córdoba https://t.co/ip2uK9Up6g'\", nan), nan)\n",
            "((\"'🥳 UNA FIESTA DE ARTE\", ' CULTURA Y RECREACIÓN EN EL PARQUE EDUCATIVO ESTE\\\\n\\\\n🙌 El 5 de noviembre'), ' de 14 a 19 horas')\n",
            "((\"'@OrquestaRecicla y Fundación @JuvipsOficial recibieron de Municipalidad de Córdoba @MuniCba distincion #cordobasustentable por replicar ntro modelo en barrios periféricos de la ciudad Recibió ntro luthier Wilson Lopez que está en Cordoba impartiendo clases https://t.co/Tn6bEKvTEW https://t.co/DiWhs40p0r'\", nan), nan)\n",
            "((\"'#Asamblea de #taxistas en la terminal de Córdoba 🚖\\\\n\\\\n👉Los trabajadores levantaron el paro pero continúan protestando contra #Uber. Según la Municipalidad la empresa tiene prohibido prestar sus servicios en la ciudad. \\\\n\\\\nhttps://t.co/JjCcNqK58g https://t.co/PKYHkP16e1'\", nan), nan)\n",
            "((\"'#CorteDeCalles céntricas por obras de #bacheo 🚧\\\\n\\\\n👉La #Municipalidad de Córdoba informó cuáles serán los puntos afectados y los desvíos a tomar durante esta martes.\\\\n\\\\nhttps://t.co/pXtRVk1I1d https://t.co/BNZfjAWqex'\", nan), nan)\n",
            "((\"'Bajo Grande: responsabilizan a la Municipalidad y la Provincia por la contaminación del Suquía La Justicia de Córdoba condenó a la Municipalidad de Córdoba y a la Provincia por la contaminación del río Suquía provocada por la planta depuradora de aguas residuales de Bajo Gra…'\", nan), nan)\n",
            "((\"'Cortes de tránsito para este martes en el área central de Córdoba La Municipalidad de Córdoba avanza con el segundo Plan de Bacheo y Rehabilitación.https://t.co/1Q2u9IBDvZ'\", nan), nan)\n",
            "((\"'LUCES LED EN COLINAS DE VELEZ SARSFIELD\\\\n\\\\nEn estos momentos estamos trabajando con Pablo Vega de Participación Ciudadana de la Municipalidad de Córdoba para dotar de luces led a Colinas de Vélez Sarsfield. Trabajar en conjunto es el camino. https://t.co/I3W2PVAzCt'\", nan), nan)\n",
            "((\"'🐶🐱  La Municipalidad tiene capacidad para realizar hasta 2.000 esterilizaciones gratuitas por mes\", \" cifra cuatro veces superior a las 500 que se realizaban hasta diciembre de 2019.\\\\n\\\\n#Cordoba #castraciones #mascotas \\\\n\\\\nhttps://t.co/bRqfg97ZZK'\"), nan)\n",
            "((\"'🐶🐱  La Municipalidad tiene capacidad para realizar hasta 2.000 esterilizaciones gratuitas por mes\", \" cifra cuatro veces superior a las 500 que se realizaban hasta diciembre de 2019.\\\\n\\\\n#Cordoba #castraciones #mascotas \\\\n\\\\nhttps://t.co/7j20gZgDma'\"), nan)\n",
            "((\"'🐶🐱  La Municipalidad tiene capacidad para realizar hasta 2.000 esterilizaciones gratuitas por mes\", \" cifra cuatro veces superior a las 500 que se realizaban hasta diciembre de 2019.\\\\n\\\\n#Cordoba #castraciones #mascotas \\\\n\\\\nhttps://t.co/Ra43piVGdW'\"), nan)\n",
            "((\"'La Municipalidad amplía su capacidad para brindar castraciones gratuitas de mascotas\\\\n#Noticias #ElObjetivoCba #LaVerdadDeLosHechos #CastracionesGratuitas #Mascotas #Córdoba @MuniCba \\\\nhttps://t.co/4n6P4XdtZP'\", nan), nan)\n",
            "((\"'#BajoGrande: responsabilizan a #Municipalidad y #Provincia por la #contaminación del río Suquía\\\\n\\\\n👉La decisión #judicial se tomó en el marco de la acción iniciada por la Fundación Centro de Derechos Humanos y #Ambiente y otros afectados. @JusticiaCba_ARG \\\\n\\\\nhttps://t.co/xC58zCBQSv'\", nan), nan)\n",
            "((\"'Bajo Grande: responsabilizan a Municipalidad de Córdoba y Provincia por la contaminación #ambiental del río Suquía. La decisión judicial se adoptó en el marco de una acción iniciada por la fundación CEDHA y vecinos afectados. https://t.co/ey8gjg7NIs https://t.co/FDTG3HPpiH'\", nan), nan)\n",
            "(('\\'📣 TE DESAFIAMOS A TRANSFORMAR RESIDUOS EN INNOVACIÓN\\\\n\\\\n♻️Sumate al Desafío \"Córdoba Circular\"', \"  donde buscamos proyectos que nos permitan reintroducir al sistema productivo varios residuos que llegan a nuestros Centros Verdes.\\\\n#EconomíaCircular\\\\n➕ info: https://t.co/Dof7ygODXU'\"), nan)\n",
            "((\"'EL PRE-SELECTIVO DE MALAMBO FUE ACOMPAÑADO AL “NACIONAL LABORDE 2022” POR LA MUNICIPALIDAD DE USHUAIA\\\\n\\\\nLa Municipalidad de Ushuaia acompañó el Pre-Selectivo de Malambo que se realizará en Laborde\", \" provincia de Córdoba\\\\n\\\\nMás información: https://t.co/1lHZjgl3qp'\"), nan)\n",
            "((\"'Que tanto autobombo se hace la municipalidad de Córdoba con las nuevas unidades de bondis 0km\", \" si el servicio sigue andando igual de pésimo!'\"), nan)\n",
            "((\"'La Municipalidad de Córdoba avanza con el segundo Plan de Bacheo y Rehabilitación.\\\\n\\\\nhttps://t.co/JwZ0FMBXDv'\", nan), nan)\n",
            "((\"'🧹 ENTRE TODOS\", ' CUIDEMOS NUESTROS CANALES PLUVIALES\\\\n\\\\n👉 Alertados por vecinos y el #CPC Pueyrredón'), ' junto a @AmbienteMuniCba llevamos a cabo la desobstrucción del canal de desagüe pluvial Ruta 19 de barrio Pueyrredón')\n",
            "((\"'ⒸⒸ↪ Festival Encuentra: arte\", \" cultura y recreación en el Parque Educativo Este » Municipalidad de Córdoba - Municipalidad de Córdoba https://t.co/OWxP18xWTC #Mundo'\"), nan)\n",
            "((\"'🤜🤛 Junto a las candidatas de Hacemos por Córdoba\", \" @alevigo y @NataliaDLSok encabezamos un acto en #CórdobaCapital.⠀\\\\n💙 Este equipo está generando #progreso en la ciudad gracias al trabajo en conjunto que realizamos entre el Gobierno de la Provincia y la Municipalidad. https://t.co/6uhDpqf7VG'\"), nan)\n",
            "((\"'#BastaBaby Berni presidente?! No llega ni a pintor de cordón de vereda en la municipalidad! #BastaBaby'\", nan), nan)\n",
            "((\"'Cierre del geriátrico El Ángel: piden que sea expropiado por la Municipalidad de Córdoba -  https://t.co/OnOXfS1xbP'\", nan), nan)\n",
            "((\"'🚲 🤸🏻\\\\u200d♂️¿VOS\", ' TE ANIMÁRÍAS? \"CÓRDOBA EXTREMA\"\\\\n🙌 Del jueves 28 al domingo 31'), \" #CórdobaCapital fue sede del 1° evento argentino de BMX freestyle de categoría internacional🌎. Tuvo lugar en el Maligno Park del Polo Deportivo Kempes.\\\\n🤳 ¡Conocé a los ganadores!: https://t.co/ta56RXM4eV https://t.co/fRDu3zPzAl'\")\n",
            "((\"'Este martes\", ' las dirigidas por Guillermo Ducuing jugarán dos partidos más por la zona.\\\\nEstudiantes comparte zona con Junín Voley'), ' Central Norte de Chaco')\n",
            "((\"'De lunes a viernes hábiles\", ' el operativo de Dispositivo Estratégico de Testeo para #Coronavirus en Territorio Argentino #DETeCTaR se realiza en el Club El Fortín'), ' ubicado en Córdoba y Chacabuco')\n",
            "((\"'Acabo de ver Cierre del geriátrico El Ángel: piden que sea expropiado por la Municipalidad de Córdoba - Haga clic ver también ☛  https://t.co/Ytuc6GvJKj'\", nan), nan)\n",
            "(('\\'🔴Cierre del geriátrico \"El Ángel\": Piden a la Municipalidad que lo expropie\\\\n\\\\n🗣️Así lo exigieron Frencia del #FIT y el PO', ' junto a Díaz'), ' candidata a Diputada Nacional del FIT-U')\n",
            "((\"'Cierre del geriátrico El Ángel: piden que sea expropiado por la Municipalidad de Córdoba | Vía Córdoba https://t.co/7iOdnzIxEk https://t.co/pubUpItIaM'\", nan), nan)\n",
            "((\"'#RESPIRACÓRDOBA🌱\\\\n\\\\n🙋🏼\\\\u200d♀️ @Ale_Torres60 te cuenta un poco más sobre esta iniciativa que busca reafirmar las actuales políticas públicas para hacer de Córdoba una ciudad saludable\", ' inclusiva'), \" resiliente y sostenible.🏙️\\\\n\\\\n#CórdobadePie #RRII #Córdoba #VuelveaRespirar #UE #UniónEuropea https://t.co/O5KAINOQPv'\")\n",
            "((\"'🙋🏻\\\\u200d♀️ 🙋🏻\\\\u200d♂️ PARTICIPAMOS DEL 1° ENCUENTRO DE LA RED ARGENTINA DE DESTINOS TURÍSTICOS INTELIGENTES DE LA REGIÓN CENTRO\\\\n\\\\n🙌 Se realizó el 28 y 29 de octubre en #CórdobaCapital. Dialogamos sobre experiencias de gestión y buenas prácticas sobre destinos turísticos inteligentes. https://t.co/4jzvHhCC7o'\", nan), nan)\n",
            "((\"'NUEVA SUCURSAL INCLUSIVA DEL BANCO DE CÓRDOBA PARA PERSONAS MIGRANTES 🌍\\\\n\\\\nA través de @ModernizaCBA y @BancodeCordoba\", \" brindamos atención y asesoramiento financiero a las personas migrantes y refugiadas.\\\\n\\\\n👐Trabajamos para una ciudad más inclusiva.\\\\n➕info: https://t.co/lRhw5up2m2 https://t.co/cR9QCAKcWc'\"), nan)\n",
            "((\"'🏆 PREMIAMOS PROYECTOS INNOVADORES PARA MODERNIZAR LA CIUDAD\\\\n\\\\n👩\\\\u200d🎓 Tres equipos de alumnos emprendedores fueron los ganadores del Concurso Interuniversitario de Innovación “Hacia un Desarrollo Sostenible” organizado por @corlabgob. Conocé a los ganadores ⬇️ https://t.co/fYcuqXHqzO https://t.co/dh0iT3iEYY'\", nan), nan)\n",
            "((\"'Básquetbol Femenino 3x3 \\\\n👉🏻🏀encuentro en el que ganaron todas. ⛹🏻\\\\u200d♀️🙋\\\\u200d♀️\\\\n📋La Subsecretaría de Deporte y Recreación de la Municipalidad de Córdoba y la @AsociacionCBB organizaron un Súper 3x3 de Básquetbol destinado a niñas y mujeres de 10 años en adelante. https://t.co/yNiKhNrnPF'\", nan), nan)\n",
            "(('\\'#Taxistas - \"Constituye un verdadero acto provocación hacia la actividad del taxi', ' pero además a las propias autoridades de la  Municipalidad de Córdoba\"'), \" afirmaron desde el gremio.\\\\n\\\\nhttps://t.co/DkefUv47CK'\")\n",
            "((\"'Este sábado por la tarde\", ' trabajadores de la Municipalidad de Córdoba encontraron un precario \"parche\" en el caño cloacal que estaban reparando en Arturo Orgaz e Igualdad'), \" Villa Páez.\\\\n\\\\n#Córdoba #Cloacas \\\\n\\\\nhttps://t.co/FVIToH7lCH'\")\n",
            "((\"'🚗 LA AVENIDA COSTANERA VUELVE A ESTAR HABILITADA\\\\n\\\\n👉 @CbaMovilidad informa que ambas manos de la Costanera se encuentran habilitadas al tránsito vehicular.  \\\\nDurante las primeras horas del día se realizaron cortes preventivos a raíz de las intensas lluvias de la madrugada ⛈️.'\", nan), nan)\n",
            "((\"'Multan a un jefe de área de la Municipalidad de Córdoba por Violencia de Género en el ámbito laboral https://t.co/wxK1os12UZ'\", nan), nan)\n",
            "((\"'▶ Otra trabajadora denunció al director de Salud de la Municipalidad de Villa Santa Rosa por violencia de género. La mujer cumplía tareas administrativas en el Centro de Salud. El municipio avanza con un sumario administrativo\", \" el funcionario denunciado solicitó licencia.'\"), nan)\n",
            "((\"'SEGUIMOS LIMPIANDO CANALES Y DESAGUES PLUVIALES 👷\\\\n\\\\nMúltiples áreas del municipio trabajan en conjunto para que los cordobeses no padezcamos inundaciones en las lluvias fuertes ⛈️.\\\\n\\\\nConocé nuestro plan y acciones ⬇️\\\\nhttps://t.co/1i6vkWMg8y'\", nan), nan)\n",
            "((\"'🔆 💡 En el marco del plan de Instalación de 20.000 LED en los barrios de #CórdobaCapital\", ' el intendente @MartinLlaryora visitó 📍 barrio Ameghino Sur y anunció las obras que implican el reemplazo de viejas luminarias de vapor de sodio y vapor de mercurio'), \" por 210 luces LED. https://t.co/hO1luBgp92'\")\n",
            "((\"'Operativo #DETECTAR \\\\n\\\\nDe lun a vie hábiles de 09 a 13 hs. Club El Fortín: Córdoba y Chacabuco\\\\nLunes 1-11 de 9 a 12 hs – Plaza Belgrano\", ' G. Fretes y Caaguazú. En caso de lluvia se hará en el Club Parque San Martín'), \" Av. San Martín 3551.\\\\n\\\\n#JuntoAlVecino\\\\n#GobiernoDelPuebloDeMerlo https://t.co/VrmQqjNtc6'\")\n",
            "((\"'ATENCIÓN | 👩\\\\u200d⚕️💪 El operativo municipal estará presente los días 1 y 2 de noviembre en barrio Marqués de Sobremonte. \\\\n⠀\\\\n🙋 Allí se podrá acceder a los servicios #gratuitos que brindamos a través de consultorios y oficinas móviles. \\\\n¡Chequeá lugar y horarios!  ⬇️ https://t.co/b0ob7LCr32'\", nan), nan)\n",
            "((\"'🙋🏻\\\\u200d♂️ Invertimos para que los cordobeses y cordobesas tengan acceso a un sistema de transporte más moderno\", \" eficiente y confortable. ✅ \\\\n\\\\n#CórdobaCapital \\\\n#EstamosCercaTuyo https://t.co/Ekx6P4jswx'\"), nan)\n",
            "((\"'🚏  Las nuevas unidades cubrirán el corredor 8 y parte del 3 de #CórdobaCapital y están equipadas con rampas para personas con discapacidad\", ' cámaras de seguridad'), ' puertos USB y wifi gratis. \\\\n🙌 A su vez')\n",
            "((\"'🚍 Los nuevos móviles se suman a los 6️⃣9️⃣ adquiridos en septiembre\", \" totalizando 1️⃣1️⃣0️⃣ unidades incorporadas desde el inicio de la gestión del Intendente @MartinLlaryora. \\\\n🚌 Se trata de la inversión en materia de transporte urbano más importante de las últimas décadas. https://t.co/J2tnoBQdGI'\"), nan)\n",
            "((\"'📣 AHORA | El intendente @MartinLlaryora  se encuentra en el Parque Sarmiento junto al presidente de @tamsecba\", ' @marcerodio; y el secretario de @cbamovilidad'), ' @marcedmansilla')\n",
            "((\"'🎨 NUESTRA CIUDAD\", ' LLENA DE COLORES\\\\n👨🏼\\\\u200d🎨 En el marco de programa #ArteDeNuestraGente'), ' se suma una nueva obra del reconocido artista Luis Wells.\\\\n➡️ El intendente @MartinLlaryora visitó el mural que se extiende sobre el puente de Av. 📍 Fuerza Aérea al 4300')\n",
            "((\"'\\\\U0001f6fb 🛠️ NUESTRO CENTRO OPERATIVO PUEYRREDÓN A TODA MÁQUINA\\\\n\\\\n➡️ Hace tan solo un mes el intendente @MartinLlaryora inauguraba el #CentroOperativo Pueyrredón. En este periodo\", \" ya se realizaron trabajos en más de 📍 125 puntos de su jurisdicción y 28 barrios. \\\\n\\\\n#CórdobaCapital https://t.co/J6mMoZXQ6o'\"), nan)\n",
            "((\"'🏠 En Arteche\", ' celebramos el Día Mundial de las #Ciudades anunciando la firma del convenio #Ecoaliados 👏 en la municipalidad de #Córdoba'), ' lugar de #Argentina donde está nuestra fábrica')\n",
            "((\"'🗣“Esta conquista es una muestra más de que el deporte cordobés siempre está en los primeros planos a nivel nacional e internacional. El logro es de Instituto y la alegría\", ' de todos los cordobeses”'), ' dijo @MedardoLigorria ')\n",
            "(('\\'El \"Final 8\" se jugó en #CórdobaCapital. ⠀⠀\\\\nLa Subsecretaría de Deporte y Recreación de la Municipalidad de Córdoba', ' a través de su titular'), ' Lic. Medardo Ligorria y los funcionarios del área')\n",
            "((\"'Este museo\", ' fundado durante 1981 en la ciudad de Villa María'), ' Pcia. de  Córdoba')\n",
            "((\"'@soleamartin @MartinLlaryora @MuniCba La municipalidad cobra tasas contributivas de servicios y muchas veces no los presta\", ' por eso dije que estaba bien la obra. También hago reclamos por arreglos o problemas en Nueva Córdoba'), \" pero debemos ser responsables en cuidar lo que nos corresponde y hay veredas destruidas'\")\n",
            "((\"'📚 LEY MICAELA: CONTINUAMOS CON LAS CAPACITACIONES EN GÉNERO Y VIOLENCIAS\\\\n\\\\n🗓️ El próximo curso comienza el viernes 5 de noviembre a las 15 horas en la sede del Obispo Mercadillo\", \" y está destinado al público en general.\\\\n \\\\n¡Anotate!: https://t.co/gAPTm7gpR0\\\\n\\\\n#CórdobaCapital https://t.co/tUnmzkGTEL'\"), nan)\n",
            "((\"'e Innovación de Holcim en la provincia de Córdoba. Los análisis pasan por la caracterización del suelo (según la clasificación AASTHO) y luego se realizan los ensayos con distintas dosificaciones del producto para ver cuál genera la mejor resistencia en la estabilización.'\", nan), nan)\n",
            "((\"'Estas actividades\", ' públicas y gratuitas'), ' se llevarán adelante de 19 hs a 00 hs')\n",
            "((\"'🏥 EQUIPAMIENTO PARA MEJOR ATENCIÓN EN NUESTRO HOSPITAL INFANTIL \\\\n\\\\n🙌Junto a @saludmunicba hicimos entrega al Hospital Infantil Municipal de sillas\", ' televisores'), ' un equipo de monitoreo ambulatorio de presión arterial')\n",
            "((\"'📢 INSTITUTO\", ' CAMPEÓN DEL SÚPER 20 🏀🙌⠀\\\\n⠀\\\\n🏆🇦🇹  ¡Felicitaciones para @InstitutoACC'), ' campeón del Súper 20 de la @LigaNacional de básquet!⠀\\\\n⠀\\\\n📌 El \"Final 8\" se jugó en #CórdobaCapital. ⠀⠀\\\\n⠀\\\\n⛹\\\\u200d♂️  \"La Gloria\" enorgullece a la ciudad con este gran logro. ¡Gracias!⠀ https://t.co/sDcLBVO2aD\\'')\n",
            "((\"'“Si bien falta bastante\", ' esta gestión se está sentando con los pibes y las pibas”.  Entrevista a Juliana Rodríguez'), ' coordinadora de Juventudes de la Municipalidad de Villa María')\n",
            "((\"'💃 ¡A MOVER EL CUERPO! ZUMBA Y RITMOS EN EL PARQUE SARMIENTO\\\\n\\\\n🕺 Te invitamos a ejercitarte y divertirte con un Master Class en el polideportivo del parque. La actividad se hará desde las 16 y hasta las 19 horas de hoy.\\\\n\\\\n👍 Te podrás anotar de manera presencial en el evento. https://t.co/pjWAfJU8lw'\", nan), nan)\n",
            "((\"'Y se viene con todoooo Pasco !!!! El Festival de la Alegria!!!! Cerramos el Centenario 🥳🥳🥳🥳🥳 Municipalidad de Pasco !!!!! Pasco-Córdoba!!!! https://t.co/hyLJZs2K9r'\", nan), nan)\n",
            "((\"'CONOCÉ LAS OBRAS QUE VAN A RENOVAR LA PLAZA COLÓN👷\\\\n🙌Este monumento histórico de #CórdobaCapital\", ' ícono de la cultura cordobesa y reconocida por la belleza de sus obras de arte'), \" pronto será símbolo de una #CórdobadePie. Mirá lo que estamos haciendo: https://t.co/KTPw4VzKlD https://t.co/OTbk83lMha'\")\n",
            "(('\\'📣  MÁS SALUD Y SERVICIOS PARA LOS VECINOS \\\\n💪 El Programa \"Nos Encontramos en tu Barrio\" pasó por Coop. Felipe Varela.\\\\n\\\\U0001fa7a Acercamos el sistema sanitario municipal a los vecinos para que puedan realizarse hisopados y chequeos médicos. ⬇️\\\\n#EstamosCercaTuyo https://t.co/ZUrtCA8e2f\\'', nan), nan)\n",
            "((\"'Municipalidad de Villa Cura Brochero y el Gabinete Social de la Provincia de Córdoba invitan a las juventudes brocherianas y de todo Traslasierra a disfrutar del 2° Encuentro de Jóvenes #CuentaConmigo.\\\\n#CuraBrochero #Jóvenes \\\\n\\\\n https://t.co/EkimUOkJlD https://t.co/aDuC3oXE3L'\", nan), nan)\n",
            "((\"'Santa Isabel 2 secc. Queremos recuperar la plaza. #MunicipalidaddeCordoba\\\\n\\\\nhttps://t.co/PudMlhVdtF'\", nan), nan)\n",
            "((\"'La Municipalidad de Córdoba\", ' a través de la Secretaría de Planeamiento'), \" Modernización y Relaciones Internacionales y el Banco de Córdoba presentaron la Sucursal Inclusiva para Personas Migrantes de Córdoba.\\\\n@BancodeCordoba\\\\n#PersonasMigrantes #Inclusión \\\\n https://t.co/PvuRICkExs https://t.co/FZmQL3nf9q'\")\n",
            "((\"'🤩  MIRÁ LA TREMENDA AGENDA QUE TENEMOS PARA ESTE FIN DE SEMANA \\\\n🗓️ A partir de hoy y hasta el domingo 31 de octubre\", \" te invitamos a participar de numerosas actividades en #CórdobaCapital\\\\nPara➕ info de las actividades detalladas visitá la página: https://t.co/vWCXIBpnN0 ¡Sumate!'\"), nan)\n",
            "((\"'#RespiraCórdoba 🍃 \\\\n\\\\n👉🏼Los municipios somos actores claves por la cercanía a sus ciudadanos. Por ello la Unión Europea se comprometió a realizar esta importante inversión en Córdoba.\\\\n\\\\n🙋\\\\u200d♂️@AmadorSanchezUE Embajador de @UEenARG  compartió con la @MuniCba el lanzamiento del Proyecto. https://t.co/y1qxGWr5UJ'\", nan), nan)\n",
            "((\"'👻 DISFRUTÁ DEL CINE DE TERROR EN EL CINECLUB Y LA PIOJERA \\\\n📽️ Del 28 al 31 de octubre\", ' se desarrolla la 7° edición del Festival Internacional de Cine de Terror y Fantástico'), ' \"Terror Córdoba 7\". 📍 Serán en el @cineclubmuni y en @lapiojeracc \\\\n🔗 + info:\\\\nhttps://t.co/pKI2GBeHQq\\'')\n",
            "((\"'Municipalidad de Córdoba: nop. https://t.co/dm0P9hckwX'\", nan), nan)\n",
            "((\"'📍El operativo tendrá lugar el día sábado 30 de octubre desde las 8hs hasta las 13hs\", \" en la calle Aviador Abel 1103. Allí se brindará orientación en la gestión de diferentes trámites.\\\\n\\\\n📞Ante cualquier duda consultar a los números que figuran en la foto.'\"), nan)\n",
            "((\"'🗣️ #InfoMigrantes\\\\n\\\\n👉🏼Desde la Dirección de Acompañamiento y Apoyo al Inmigrante junto a otras dependencias provinciales\", \" estaremos acompañando al @ConBolCordoba en Córdoba en el Operativo Móvil que se llevará a cabo en el B° 6 de Agosto. https://t.co/PEKkeagvik'\"), nan)\n",
            "((\"'Culminó con éxito la gira de promoción turística que visitó la Ciudad de Buenos Aires\", \" Rosario y Córdoba - https://t.co/hzCCyaim8i https://t.co/4I8NeUMw41'\"), nan)\n",
            "((\"'🗣️El objetivo es desarrollar actividades de capacitación y sensibilización que propicien la reflexión y discusión colectiva sobre migración y refugio con agentes estatales del ámbito municipal de Córdoba.\\\\n\\\\nMás info➡️ https://t.co/OwTLPoEedw'\", nan), nan)\n",
            "(('\\'📲Comenzó el #CursoDeCapacitación “Cruzando Fronteras: las migraciones y el refugio en argentina\"\\\\n\\\\n🙌🏻Tuvimos el primer encuentro de este curso donde un grupo de expertos del CONICET compartirá nociones básicas sobre migración y buenas prácticas con personas migrantes y refugiadas https://t.co/tHs1DaPPQ4\\'', nan), nan)\n",
            "((\"'La Municipalidad y el Banco de Córdoba presentaron la sucursal inclusiva para personas\\\\xa0migrantes https://t.co/AflCgHT8o7'\", nan), nan)\n",
            "((\"'Rubén recibió los galardones Jerónimo Luis de Cabrera y Democracia y Solidaridad por parte de la Municipalidad de Córdoba y el de Mejor Librero de la Argentina que otorga la Feria de Editores. https://t.co/6PIi3zd6nA'\", nan), nan)\n",
            "((\"'➡ Fue organizado por la Secretaría de Gestión Ambiental y Sostenibilidad\", \" junto al Ente de Obras y Servicios de la Municipalidad de Córdoba para poner en valor el trabajo comprometido que vienen realizando distintas instituciones de la ciudad en materia de #sustentabilidad'\"), nan)\n",
            "((\"'#Cultura: la municipalidad propone actividades para disfrutar este finde\\\\n\\\\n👉El Festival de cine de Terror\", ' un Campeonato Internacional de BMX Freestyle'), ' “Viví Francia”')\n"
          ]
        }
      ]
    },
    {
      "cell_type": "markdown",
      "metadata": {
        "id": "SG_Na3Toq-S-"
      },
      "source": [
        "# Extraer de un usuario particular"
      ]
    },
    {
      "cell_type": "markdown",
      "metadata": {
        "id": "Llt_haFzvsH3"
      },
      "source": [
        "Finalmente también se puede pasar como parámetro un usuario en particular y extraer todos los tweets desde cierta fecha. En este caso se muestra el ejemplo con la cuenta oficial del Intendente Martin Llaryora. "
      ]
    },
    {
      "cell_type": "code",
      "metadata": {
        "colab": {
          "base_uri": "https://localhost:8080/"
        },
        "id": "XjaZOTRzq0EY",
        "outputId": "94d81fe0-19df-4a90-c21d-6cf19408216f"
      },
      "source": [
        "user_name = \"MartinLlaryora\"\n",
        "user_tweets = \"snscrape --format '{content!r}'\"+ f\" --max-results {max_results} --since {from_date} twitter-user '{user_name} until:{end_date}' > user-tweets.txt\"\n",
        "os.system(user_tweets)\n",
        "if os.stat(\"user-tweets.txt\").st_size == 0:\n",
        "  print('No Tweets found')\n",
        "else:\n",
        "  df = pd.read_csv('user-tweets.txt', names=['content'])\n",
        "  for row in df['content'].iteritems():\n",
        "    print(row)"
      ],
      "execution_count": null,
      "outputs": [
        {
          "output_type": "stream",
          "name": "stdout",
          "text": [
            "(0, \"'💪🏼 Seguimos comprometidos con el cuidado de las #mascotas. Queremos aumentar la cantidad de castraciones para satisfacer la gran demanda que tiene nuestra ciudad.⠀\\\\n⠀\\\\n#Castraciones #PorgramaDeCastraciones #EstamosCercaTuyo'\")\n",
            "(1, \"'Este nuevo centro se encuentra sobre calle Concepción de Bermejo 3179\")\n",
            "(2, \"'📌 El Centro cuenta con un amplio quirófano con tres camillas\")\n",
            "(3, \"'ABRIMOS UN NUEVO CENTRO DE CASTRACIONES PARA TUS MASCOTAS 🐶🐱⠀\\\\n⠀\\\\n👩🏻\\\\u200d⚕️ Para continuar con el plan de castraciones que llevamos adelante\")\n",
            "(4, \"'👩\\\\u200d🏫 Esto es clave para generar las condiciones para el logro de más aprendizajes para nuestras niñas y niños de los jardines y escuelas municipales. 🎒✏️⠀\\\\n ⠀\\\\n#CórdobaCapital #Educación #EstamosCercaTuyo'\")\n",
            "(5, \"'✨ Además\")\n",
            "(6, \"'✅ NUEVAS AULAS PARA LAS ESCUELAS MUNICIPALES 👷\\\\u200d♀️⠀\\\\n⠀\\\\n🚧 En el marco del programa “Construir Futuro”\")\n",
            "(7, \"'🙋🏻\\\\u200d♀️🙋🏼\\\\u200d♀️ Necesitamos que #Ellas vayan al Congreso a traer más recursos para Córdoba. Y lo vamos a lograr con el compromiso de todas y todos. ¡Sigamos militando! ¡Sigamos poniendo a Córdoba de pie!⠀\\\\n⠀\\\\n#EllasProponen⠀\\\\n#20Propuestas https://t.co/4NYzdwqGPw'\")\n",
            "(8, \"'Pero tenemos que terminar con la injusta distribución de los recursos nacionales.El interior del país está haciendo un gran esfuerzo porque los subsidios no llegan.Hace años se reparten en #BuenosAires\")\n",
            "(9, \"'🤜🤛 Junto a las candidatas de Hacemos por Córdoba\")\n",
            "(10, \"'🔆 A través del programa Rutas Seguras\")\n",
            "(11, \"'🚏También aquellas donde circula el transporte urbano de pasajeros y el 100% de sus paradas. 🚍⠀\\\\n⠀'\")\n",
            "(12, \"'⠀\\\\n🧭 En la intersección de la jurisdicción de #CPC Guiñazú y #CPC Monseñor Pablo Cabrera\")\n",
            "(13, \"'SUMAMOS 110 LUMINARIAS LED EN EL EXTREMO NORTE DE LA CIUDAD ⬆️🔆⠀\\\\n\\\\n📌 Recorrí barrio Guiñazú\")\n",
            "(14, \"'🙋🏼\\\\u200d♂ Invertimos para que los cordobeses y cordobesas tengan acceso a un sistema de transporte más moderno\")\n",
            "(15, \"'🙌 A su vez\")\n",
            "(16, \"'♿ Están completamente equipadas con rampas para personas con discapacidad\")\n",
            "(17, \"'🚌 Se trata de la inversión en materia de transporte urbano más importante de las últimas décadas y marca nuestro compromiso por fortalecer el sistema de transporte y mejorar la movilidad en toda la ciudad.\\\\n\\\\n🚏  Las nuevas unidades cubrirán el corredor 8 y parte del 3. https://t.co/jACowJ3JkA'\")\n",
            "(18, \"'📣 Los nuevos móviles se suman a los 6️⃣9️⃣ que ya forman parte del sistema de transporte\")\n",
            "(19, \"'🚌 41 NUEVAS UNIDADES PARA EL TRANSPORTE URBANO DE PASAJEROS\\\\n\\\\n¡Hoy sumamos 4️⃣1️⃣ nuevas unidades cero kilómetro para la empresa de transporte municipal @tamsecba !👏👏👏 https://t.co/pHFsGBBCaG'\")\n",
            "(20, \"'🤜🤛 Esto es posible gracias a un proceso comunitario: Centros Vecinales\")\n",
            "(21, \"'📌 Recorrí los avances de obra correspondientes a la instalación de luminarias LED 🔆 en Villa Adela\")\n",
            "(22, \"'👨🏻\\\\u200d🔧 INSTALAMOS TECNOLOGÍA LED PARA ILUMINAR VILLA ADELA 💡✨ \\\\n\\\\n🙌 Seguimos creando #RutasSeguras junto a la Provincia y a los vecinos: ya iluminamos 159 cuadras de 11 barrios en la zona suroeste de la ciudad. 📍 https://t.co/g8y8OTl7JM'\")\n",
            "(23, \"'El deporte une a los cordobeses\")\n",
            "(24, \"'¡GLORIA\")\n",
            "(25, \"'🖌️ La intervención fue realizada en el marco del programa “Arte de nuestra gente”\")\n",
            "(26, \"'👨\\\\u200d🎨 Se trata de un mural de 400 metros cuadrados\")\n",
            "(27, \"'✅ UNA OBRA DE LUIS WELLS SE SUMA A LAS INTERVENCIONES DE ARTE URBANO  🙌⠀\\\\n⠀\\\\n🎨 Un nuevo mural renueva la fisonomía de uno de los puntos más transitados de #CórdobaCapital\")\n",
            "(28, \"'✅ Serán 19 en total los barrios de la ciudad asfaltados en este programa: más de 650 cuadras.⠀\\\\n⠀\\\\n🤜🤛 Solo con #ObrasParaLosVecinos\")\n",
            "(29, \"'🚧 Hace varias años que vecinas y vecinos están esperando estas obras\")\n",
            "(30, \"'🙋🏼\\\\u200d♂️ Con el Programa de Pavimentación de Calles de Tierra\")\n",
            "(31, \"'📢 ESTAMOS LLEVANDO ASFALTO Y PROGRESO A BARRIO RESIDENCIAL SAN ROQUE 🛣️⠀⠀\\\\n⠀⠀⠀\\\\n📌 Residencial San Roque\")\n",
            "(32, \"'✅ Mediante el programa Rutas Seguras\")\n",
            "(33, \"'🤜🤛 Esto es posible gracias a un proceso comunitario: Centros Vecinales\")\n",
            "(34, \"'🙌 Las luminarias LED\")\n",
            "(35, \"'📌 En el marco del programa #RutasSeguras\")\n",
            "(36, \"'NUEVAS LUMINARIAS LED PARA ESTACIÓN FLORES 💡✨⠀\\\\n⠀\\\\n➡️ Visité barrio Estación Flores\")\n",
            "(37, \"'✅ Este programa está cambiando las calles de tierra por asfalto en  6️⃣5️⃣4️⃣ cuadras de 1️⃣9️⃣ barrios de #CórdobaCapital.\\\\n\\\\n#ObrasParalosVecinos #CórdobadePie'\")\n",
            "(38, \"'Por eso ejecutaremos el Programa de Pavimentación de Calles de Tierra\")\n",
            "(39, \"'📣 LUEGO DE AÑOS DE RECLAMOS\")\n",
            "(40, \"'🇵🇪 Pero a esta plaza se le suma la alegría de nuestra comunidad peruana\")\n",
            "(41, \"'🤝 A su vez\")\n",
            "(42, \"'✅Reparamos los juegos y los senderos.\\\\n✅Colocamos cestos de residuos y juegos inclusivos\")\n",
            "(43, \"'👉 No podía ser que estuviese en tal estado de abandono un espacio que significa mucho para una colectividad tan pujante en nuestra ciudad.\\\\n\\\\nPor eso\")\n",
            "(44, \"'🇵🇪🇦🇷 VER RENOVADA ESTA PLAZA ES UN ORGULLO PARA PERÚ Y PARA CÓRDOBA\\\\n\\\\n🌳 La plaza República del Perú\")\n",
            "(45, \"'Seguiremos estando presente y trabajando sin cesar hasta que podamos resolver este grave problema.'\")\n",
            "(46, \"'Desde las distintas secretarias\")\n",
            "(47, \"'El personal municipal de Mantenimiento de Redes Sanitarias y las empresas contratadas continúan trabajando ininterrumpidamente en la ejecución de las obras necesarias para remediar los desbordes cloacales  del sector. https://t.co/UjUWsEWLVE'\")\n",
            "(48, \"'También visité las Carpas Sanitarias\")\n",
            "(49, \"'En el Comité Operativo de Emergencia pude escuchar y dialogar con las vecinas y vecinos del sector\")\n",
            "(50, \"'CONTINUAMOS JUNTO A LOS VECINOS Y VECINAS DE VILLA PÁEZ\")\n",
            "(51, \"'🙌 Me siento honrado con la invitación para representar a nuestra querida ciudad.⠀\\\\n ⠀⠀\\\\n#Israel #Modernización #CiudadInteligente'\")\n",
            "(52, \"'🤜🤛 Entre los temas tratados\")\n",
            "(53, \"'👨\\\\u200d💻🙋 Junto a la Secretaria de @ModernizaCBA @Ale_Torres60 \")\n",
            "(54, \"'🚲🧠💡 Se tratarán temáticas de innovación en el transporte\")\n",
            "(55, \"'⠀\\\\n🙋🏼\\\\u200d♂️ Será un honor representar a CórdobaCapital en este evento\")\n",
            "(56, \"'🇮🇱✨🇦🇷 TENDRÉ EL HONOR DE PARTICIPAR DE LA 8° CUMBRE ANUAL DE MOVILIDAD INTELIGENTE\")\n",
            "(57, \"'🏆 El campeón del certamen clasificará a la #CopaSudamericana\")\n",
            "(58, \"'🥉 Los 8️⃣ mejores equipos ya se encuentran en la ciudad: Instituto\")\n",
            "(59, \"'🥈 Recibí al presidente de @InstitutoACC \")\n",
            "(60, \"'🏀 EN CÓRDOBA\")\n",
            "(61, \"'👥 Se realizaron talleres donde participaron 611 instituciones y referentes de 558 barrios.⠀\\\\n⠀\\\\n💡 Mediante el programa #RutasSeguras se prevé la instalación de 15.000 luminarias en 5.000 cuadras.⠀\\\\n⠀\\\\n#ObrasParaLosVecinos #CórdobaCapital'\")\n",
            "(62, \"'👩\\\\u200d🔧 Las calles específicas a iluminar se determinaron a través de un trabajo conjunto entre la Municipalidad\")\n",
            "(63, \"'📍 En el sector sudeste de la ciudad\")\n",
            "(64, \"'📣 SEGUIMOS ILUMINANDO LAS CALLES MÁS TRANSITADAS DE TODOS LOS BARRIOS ⠀\\\\n⠀\\\\n🙋🏼\\\\u200d♂️ En el marco del Programa de Rutas Seguras\")\n",
            "(65, \"'✅ La plaza Urquiza estaba abandonada\")\n",
            "(66, \"'⠀\\\\n⠀\\\\n🤜🤛 Las actividades fueron organizadas por la Mesa Pueblo San Vicente\")\n",
            "(67, '\\'🤩  MILES DE PERSONAS DISFRUTARON \"VIVÍ SAN VICENTE\"⠀\\\\n⠀\\\\n📌 En la renovada Plaza Urquiza')\n",
            "(68, \"'🤜🤛 Todo eso se enmarca en nuestros planes de Bacheo y Rehabilitación en toda #CórdobaCapital\")\n",
            "(69, \"'🤦 A pesar de eso\")\n",
            "(70, \"'🚧 REPAVIMENTAMOS 3000 METROS DE UNA ZONA CLAVE PARA LA CIUDAD\\\\n\\\\n📍En Nueva Córdoba convergen muchos de los caminos de los cordobeses buscando trabajar\")\n",
            "(71, \"'💙 Siento en el corazón realizar un proceso de reparación histórica en zona sur. Vamos a brindar los recursos que sean necesarios para cambiar la realidad de este lugar\")\n",
            "(72, \"'🍃 Sembramos pasto en 1.000 metros cuadrados  y forestamos con más de 30 árboles. 🌱⠀\\\\n⠀'\")\n",
            "(73, \"'🤸\\\\u200d♂️ Instalamos un “Patio de las Infancias”: 182 metros cuadrados con juegos de vanguardia e inclusivos\")\n",
            "(74, \"'.⠀\\\\n⠀\\\\n🚧 En el marco del programa “La Plaza de tu Barrio”\")\n",
            "(75, \"'✅ RECUPERAMOS LA PLAZA DE BARRIO VILLA RIVADAVIA 🌱\\\\nEn este barrio del sur de la ciudad\")\n",
            "(76, \"'👉 CORACE tendrá la misión de continuar posicionando a #CórdobaCapital\")\n",
            "(77, \"'🙌 Se focalizará en potenciar los emprendimientos innovadores tecnológicos de triple impacto: \\\\n\\\\n♻️ Ecológico.\\\\n🙋🏻\\\\u200d♀️ Social.\\\\n🌱 Ambiental.\\\\n\\\\n🤜🤛 El proyecto cuenta con el apoyo de\")\n",
            "(78, \"'💪 UNA INSTITUCIÓN PARA PROMOVER Y FORTALECER TU EMPRENDIMIENTO\\\\n\\\\n➡️ Promulgamos la ordenanza que crea el Ente Municipal Córdoba Aceleradora de Innovación\")\n",
            "(79, \"'A su vez\")\n",
            "(80, \"'🌃 Córdoba estaba apagada\")\n",
            "(81, \"'👷 En el marco del Programa Rutas Seguras\")\n",
            "(82, \"'💡 ILUMINANDO LOS BARRIOS JUNTO A LOS VECINOS\\\\n\\\\n📍 La semana pasada visité el barrio Remedios de Escalada\")\n",
            "(83, \"'👉 Fue beatificado en 2020 y se lo reconoce actualmente como “Patrono del Apostolado Juvenil”\\\\nRecibí a través del padre Pedro\")\n",
            "(84, \"'🙌 Durante su vida se dedicó a ayudar al prójimo\")\n",
            "(85, \"'Compartimos un espacio y testimonio del Joven Beato\\\\n⠀\\\\n😇 Carlo Acutis fue un joven que falleció en 2016 con tan solo 15 años\")\n",
            "(86, \"'🕊️¿SABÉS QUIÉN ES EL BEATO CARLO ACUTIS?⠀\\\\n⠀\\\\n 🙏Días pasado asistí a la veneración  del Beato Carlo Acutis en el Colegio Villa Eucarística (Fasta). Sus Reliquias  llegaron a Córdoba en el marco de la gira Apostólica organizada por los jóvenes Fasta.⠀ https://t.co/dvLb96T4np'\")\n",
            "(87, \"'📚 El evento funcionó además como bienvenida para los nuevos trabajadores\")\n",
            "(88, \"'JORNADA DE CAPACITACIÓN EN GÉNERO Y BUENAS PRÁCTICAS EN TAMSE 🙋🚏⠀\\\\n⠀\\\\n♀️ La empresa municipal de transporte @tamsecba brindó una Jornada de Capacitación en Género y Buenas Prácticas del Transporte: estuvo a cargo de dos profesionales especializados en la “Ley Micaela”. ⠀\\\\n⠀ https://t.co/IUpfMSwOMy'\")\n",
            "(89, \"'A su vez\")\n",
            "(90, \"'SEGUIMOS ACOMPAÑANDO A VILLA PÁEZ\\\\n\\\\nEl día de hoy visité el barrio\")\n",
            "(91, '\\'💦 En el marco del programa \"Más Agua')\n",
            "(92, \"'💧AGUA POTABLE DE RED ES SALUD Y DIGNIDAD PARA LOS VECINOS ✅\\\\n\\\\n🚰 Cumplimos nuestras promesas. Finalizamos las obras para que 330 familias de barrio Los Artesanos\")\n",
            "(93, \"'🤜🏻🤛🏻 Implica el diálogo activo con vecinos\")\n",
            "(94, \"'➡️ El Programa tiene como objetivo la instalación de 15.000 luminarias #LED\")\n",
            "(95, \"'📌 Las obras se extenderán además a 96 cuadras del sector\")\n",
            "(96, \"'📣 CONTINUAMOS ILUMINANDO NUESTROS BARRIOS  💡 ⠀\\\\n⠀\\\\n🔆 En el marco del Programa de Rutas Seguras\")\n",
            "(97, \"'🌎 Estoy convencido que nuestra ciudad debe conectarse con el mundo para poder crecer más y mejor. Pero también para mostrarle al mundo nuestro valioso patrimonio cultural.'\")\n",
            "(98, \"'📽️ Charlamos sobre #economíacircular\")\n",
            "(99, \"'👋 Con ese objetivo\")\n"
          ]
        }
      ]
    },
    {
      "cell_type": "markdown",
      "metadata": {
        "id": "AfKOx7JKv8Eg"
      },
      "source": [
        "# 💪 Espero que sirva!! "
      ]
    },
    {
      "cell_type": "code",
      "metadata": {
        "id": "VuTxgDOfwJbZ"
      },
      "source": [
        ""
      ],
      "execution_count": null,
      "outputs": []
    }
  ]
}